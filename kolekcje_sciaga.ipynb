{
 "cells": [
  {
   "cell_type": "markdown",
   "metadata": {},
   "source": [
    "# 1. Listy"
   ]
  },
  {
   "cell_type": "markdown",
   "metadata": {},
   "source": [
    "Nazwa - list\n",
    "\n",
    "Cechy:\n",
    "- mutable - możemy zmieniać elementy wewnątrz wcześniej zdefiniowanej listy\n",
    "- kolejność elementów jest zdefiniowana\n",
    "- dostęp do elementów poprzez indeksy\n",
    "- w liście mogą się znajdować elementy różnych typów"
   ]
  },
  {
   "cell_type": "code",
   "execution_count": 1,
   "metadata": {},
   "outputs": [],
   "source": [
    "# tworzenie pustej listy\n",
    "l1 = []\n",
    "\n",
    "# również tworzenie pustej listy\n",
    "l2 = list()"
   ]
  },
  {
   "cell_type": "code",
   "execution_count": 2,
   "metadata": {},
   "outputs": [
    {
     "name": "stdout",
     "output_type": "stream",
     "text": [
      "['a', 'b', 'd', '01', True]\n"
     ]
    }
   ],
   "source": [
    "# tworzenie pełnej listy\n",
    "l1 = ['a', 'b', 'd', '01', True]\n",
    "\n",
    "l2 = [20, 30, 40, 50]\n",
    "\n",
    "print(l1)"
   ]
  },
  {
   "cell_type": "code",
   "execution_count": 3,
   "metadata": {},
   "outputs": [
    {
     "data": {
      "text/plain": [
       "20"
      ]
     },
     "execution_count": 3,
     "metadata": {},
     "output_type": "execute_result"
    }
   ],
   "source": [
    "# indeksy w liście zaczynają się od 0\n",
    "\n",
    "# wybieranie elementów z listy\n",
    "# pierwszy element z listy l2 - index 0\n",
    "l2[0]"
   ]
  },
  {
   "cell_type": "code",
   "execution_count": 4,
   "metadata": {},
   "outputs": [
    {
     "name": "stdout",
     "output_type": "stream",
     "text": [
      "50\n",
      "01\n"
     ]
    }
   ],
   "source": [
    "# pobieranie elementów poprzez indeksy od końca\n",
    "# ostatni element - index -1, przedostatni element- index -2 itd.\n",
    "print(l2[-1])\n",
    "print(l1[-2])"
   ]
  },
  {
   "cell_type": "code",
   "execution_count": 5,
   "metadata": {},
   "outputs": [
    {
     "name": "stdout",
     "output_type": "stream",
     "text": [
      "[30, 40]\n"
     ]
    }
   ],
   "source": [
    "# slice - wybieranie fragmentu z listy\n",
    "\n",
    "print(l2[1:3]) # pobieranie kawałka od elementu o indeksie 1 WŁACZNIE do elementu o indeksie 3 ROZŁĄCZNIE\n",
    "\n"
   ]
  },
  {
   "cell_type": "code",
   "execution_count": 6,
   "metadata": {},
   "outputs": [
    {
     "name": "stdout",
     "output_type": "stream",
     "text": [
      "[500, 30, 40, 50]\n"
     ]
    }
   ],
   "source": [
    "# zmiana elementu wewnątrz listy\n",
    "\n",
    "l2[0] = 500\n",
    "print(l2)"
   ]
  },
  {
   "cell_type": "code",
   "execution_count": 7,
   "metadata": {},
   "outputs": [
    {
     "name": "stdout",
     "output_type": "stream",
     "text": [
      "[500, 30, 40, 50, 60]\n"
     ]
    }
   ],
   "source": [
    "# przydatne metody\n",
    "\n",
    "# append dopisuje element no koniec listy\n",
    "l2.append(60)\n",
    "print(l2)"
   ]
  },
  {
   "cell_type": "code",
   "execution_count": 8,
   "metadata": {},
   "outputs": [
    {
     "name": "stdout",
     "output_type": "stream",
     "text": [
      "60\n",
      "[500, 30, 40, 50]\n"
     ]
    }
   ],
   "source": [
    "# pop - zwraca ostatni element z listy i go usuwa.\n",
    "\n",
    "ostatni_element = l2.pop()\n",
    "print(ostatni_element)\n",
    "print(l2)"
   ]
  },
  {
   "cell_type": "code",
   "execution_count": 9,
   "metadata": {},
   "outputs": [
    {
     "name": "stdout",
     "output_type": "stream",
     "text": [
      "[500, 30, 40, 50, 60, 70, 80]\n"
     ]
    }
   ],
   "source": [
    "# extend - dokleja do listy kolejną listę\n",
    "\n",
    "l2.extend([60, 70, 80])\n",
    "print(l2)"
   ]
  },
  {
   "cell_type": "markdown",
   "metadata": {},
   "source": [
    "# 2. Krotki (Tuple)"
   ]
  },
  {
   "cell_type": "markdown",
   "metadata": {},
   "source": [
    "Nazwa - tuple\n",
    "\n",
    "Cechy:\n",
    "- immutable - nie możemy zmieniać elementów wewnątrz wcześniej zdefiniowanej tupli\n",
    "- kolejność elementów jest zdefiniowana\n",
    "- dostęp do elementów poprzez indeksy\n",
    "- w tupli mogą się znajdować elementy różnych typów"
   ]
  },
  {
   "cell_type": "code",
   "execution_count": 10,
   "metadata": {},
   "outputs": [],
   "source": [
    "# tworzenie pustej tupli sposób 1\n",
    "t1 = ()\n",
    "\n",
    "# sposób 2\n",
    "t2 = tuple()\n",
    "\n",
    "# raczej nie ma sensu tworzyć pustej tupli, ale można to zrobić :)"
   ]
  },
  {
   "cell_type": "code",
   "execution_count": 11,
   "metadata": {},
   "outputs": [
    {
     "name": "stdout",
     "output_type": "stream",
     "text": [
      "(9, 8, 7, 6, 5, 4, 3, 2, 1)\n",
      "('To', 'jest', 'tupla')\n"
     ]
    }
   ],
   "source": [
    "# tworzenie tupli z elementami\n",
    "\n",
    "t1 = (9, 8, 7, 6, 5, 4, 3, 2, 1, )\n",
    "\n",
    "\n",
    "t2 = ('To', 'jest', 'tupla')\n",
    "\n",
    "print(t1)\n",
    "print(t2)"
   ]
  },
  {
   "cell_type": "code",
   "execution_count": 12,
   "metadata": {},
   "outputs": [
    {
     "data": {
      "text/plain": [
       "(1, 2, 3, 4, 5, 6, 7, 8, 9)"
      ]
     },
     "execution_count": 12,
     "metadata": {},
     "output_type": "execute_result"
    }
   ],
   "source": [
    "# dostęp do elementów i slicing tak samo jak w liście\n",
    "\n",
    "# slicing od końca - odwrócenie tupli\n",
    "t1[::-1]"
   ]
  },
  {
   "cell_type": "code",
   "execution_count": 13,
   "metadata": {},
   "outputs": [
    {
     "data": {
      "text/plain": [
       "'tupla'"
      ]
     },
     "execution_count": 13,
     "metadata": {},
     "output_type": "execute_result"
    }
   ],
   "source": [
    "t2[2]"
   ]
  },
  {
   "cell_type": "code",
   "execution_count": 14,
   "metadata": {},
   "outputs": [
    {
     "name": "stdout",
     "output_type": "stream",
     "text": [
      "(9, 8, 7, 6, 5, 4, 3, 2, 1, 'To', 'jest', 'tupla')\n"
     ]
    }
   ],
   "source": [
    "# można stworzyć 3cią tuplę dodając do siebie t1 i t2\n",
    "\n",
    "t3 = t1 + t2\n",
    "\n",
    "print(t3)"
   ]
  },
  {
   "cell_type": "code",
   "execution_count": 15,
   "metadata": {},
   "outputs": [
    {
     "data": {
      "text/plain": [
       "4"
      ]
     },
     "execution_count": 15,
     "metadata": {},
     "output_type": "execute_result"
    }
   ],
   "source": [
    "# dostępne są tylko 2 metody\n",
    "\n",
    "# count - zwraca liczebność emementu\n",
    "t = (1, 2, 1, 2, 1, 1)\n",
    "t.count(1)"
   ]
  },
  {
   "cell_type": "code",
   "execution_count": 16,
   "metadata": {},
   "outputs": [
    {
     "data": {
      "text/plain": [
       "1"
      ]
     },
     "execution_count": 16,
     "metadata": {},
     "output_type": "execute_result"
    }
   ],
   "source": [
    "# index - zwraca indeks podanego elementu (pierwszy napotkany)\n",
    "\n",
    "t.index(2)"
   ]
  },
  {
   "cell_type": "markdown",
   "metadata": {},
   "source": [
    "# 3. Zbiór"
   ]
  },
  {
   "cell_type": "markdown",
   "metadata": {},
   "source": [
    "Nazwa - set\n",
    "\n",
    "Cechy:\n",
    "- mutable - możemy dodawać i usuwać elementy ze zbioru\n",
    "- kolejność elementów NIE jest zdefiniowana\n",
    "- nie można się dostać do elementów wewnątrz zbioru\n",
    "- zawier tylko unikalne elementy"
   ]
  },
  {
   "cell_type": "code",
   "execution_count": 17,
   "metadata": {},
   "outputs": [],
   "source": [
    "# tworzenie pustego - jest tylko jeden sposób\n",
    "\n",
    "s1 = set()"
   ]
  },
  {
   "cell_type": "code",
   "execution_count": 18,
   "metadata": {},
   "outputs": [],
   "source": [
    "# tworzenie zbioru z elementami - tylko jeden sposób\n",
    "\n",
    "s1 = {1, 1, 1, 2, 5, 5, 6, }\n"
   ]
  },
  {
   "cell_type": "code",
   "execution_count": 19,
   "metadata": {},
   "outputs": [
    {
     "data": {
      "text/plain": [
       "{1, 2, 5, 6}"
      ]
     },
     "execution_count": 19,
     "metadata": {},
     "output_type": "execute_result"
    }
   ],
   "source": [
    "# zbiór usuwa duplikaty\n",
    "s1"
   ]
  },
  {
   "cell_type": "code",
   "execution_count": 20,
   "metadata": {},
   "outputs": [
    {
     "name": "stdout",
     "output_type": "stream",
     "text": [
      "(1, 2, 3, 3, 4, 90, 90)\n",
      "{1, 2, 3, 4, 90}\n"
     ]
    }
   ],
   "source": [
    "# tworzenie zbioru z tupli\n",
    "\n",
    "t1 = (1, 2, 3, 3, 4, 90, 90)\n",
    "s2 = set(t1)\n",
    "\n",
    "print(t1)\n",
    "print(s2)\n"
   ]
  },
  {
   "cell_type": "code",
   "execution_count": 21,
   "metadata": {},
   "outputs": [
    {
     "name": "stdout",
     "output_type": "stream",
     "text": [
      "['a', 'A', 'a', 'A', 'b']\n",
      "{'A', 'b', 'a'}\n"
     ]
    }
   ],
   "source": [
    "# tworzenie zbioru z listy\n",
    "\n",
    "\n",
    "l1 = ['a', 'A', 'a', 'A', 'b']\n",
    "s3 = set(l1)\n",
    "\n",
    "print(l1)\n",
    "print(s3)\n"
   ]
  },
  {
   "cell_type": "code",
   "execution_count": 22,
   "metadata": {},
   "outputs": [],
   "source": [
    "# jest dostępnych dość dużo metod, które pozwalają na wykonywanie matematycznych działań na zbiorach typu:\n",
    "# - suma, iloczyn, róznica zbiorów..."
   ]
  },
  {
   "cell_type": "markdown",
   "metadata": {},
   "source": [
    "# 4. Słowniki"
   ]
  },
  {
   "cell_type": "markdown",
   "metadata": {},
   "source": [
    "Nazwa - dict\n",
    "\n",
    "Cechy:\n",
    "- mutable - możemy dodawać i edytować elementy w słowniku\n",
    "- kolejność elementów NIE jest zdefiniowana\n",
    "- dostęp do elementów poprzez klucze"
   ]
  },
  {
   "cell_type": "code",
   "execution_count": 23,
   "metadata": {},
   "outputs": [
    {
     "name": "stdout",
     "output_type": "stream",
     "text": [
      "<class 'dict'> <class 'dict'>\n"
     ]
    }
   ],
   "source": [
    "# tworzenie pustego słownika sposób 1\n",
    "\n",
    "d1 = dict()\n",
    "\n",
    "d2 = {}\n",
    "\n",
    "print(type(d1), type(d2))"
   ]
  },
  {
   "cell_type": "code",
   "execution_count": 24,
   "metadata": {},
   "outputs": [
    {
     "name": "stdout",
     "output_type": "stream",
     "text": [
      "{'name': 'born2be.pl', 'top3': 1234, 'top10': 2345, 'top50': 34567}\n"
     ]
    }
   ],
   "source": [
    "# tworzenie pełnego słownika\n",
    "\n",
    "basic_stats = {\n",
    "    \"name\": \"born2be.pl\",\n",
    "    \"top3\": 1234,\n",
    "    \"top10\": 2345,\n",
    "    \"top50\": 34567,\n",
    "}\n",
    "print(basic_stats)"
   ]
  },
  {
   "cell_type": "code",
   "execution_count": 25,
   "metadata": {},
   "outputs": [],
   "source": [
    "# kluczami są w 99,9% stringi (napisy), ale można się spotkać z kluczami innego typu, np. liczby, tuple\n",
    "# wartości mogą być róznych typów"
   ]
  },
  {
   "cell_type": "code",
   "execution_count": 26,
   "metadata": {},
   "outputs": [
    {
     "data": {
      "text/plain": [
       "'born2be.pl'"
      ]
     },
     "execution_count": 26,
     "metadata": {},
     "output_type": "execute_result"
    }
   ],
   "source": [
    "# dostęp do wartości poprzez klucze\n",
    "\n",
    "basic_stats['name']"
   ]
  },
  {
   "cell_type": "code",
   "execution_count": 27,
   "metadata": {},
   "outputs": [
    {
     "name": "stdout",
     "output_type": "stream",
     "text": [
      "{'name': 'born2be.pl', 'top3': 0, 'top10': 2345, 'top50': 34567}\n"
     ]
    }
   ],
   "source": [
    "# zmiana wartości rónież poprzez klucz\n",
    "\n",
    "basic_stats['top3'] = 0\n",
    "print(basic_stats)"
   ]
  },
  {
   "cell_type": "code",
   "execution_count": 28,
   "metadata": {},
   "outputs": [
    {
     "name": "stdout",
     "output_type": "stream",
     "text": [
      "435000\n",
      "{'name': 'born2be.pl', 'top3': 0, 'top10': 2345, 'top50': 34567, 'visibility': 435000}\n"
     ]
    }
   ],
   "source": [
    "# tworzenie nowej wartości we wcześniej zdefiniowanym słowniku\n",
    "\n",
    "basic_stats['visibility'] = 435000\n",
    "print(basic_stats['visibility'])\n",
    "\n",
    "print(basic_stats)"
   ]
  },
  {
   "cell_type": "code",
   "execution_count": 29,
   "metadata": {},
   "outputs": [],
   "source": [
    "# tutaj elementy wpisane są zgodnie z kolejnością tworzenia, ale przy większych słownikach tak nie będzie"
   ]
  },
  {
   "cell_type": "code",
   "execution_count": 30,
   "metadata": {},
   "outputs": [],
   "source": [
    "# przydatne metody"
   ]
  },
  {
   "cell_type": "code",
   "execution_count": 31,
   "metadata": {},
   "outputs": [
    {
     "name": "stdout",
     "output_type": "stream",
     "text": [
      "0\n"
     ]
    }
   ],
   "source": [
    "# pop - usuwa element o podanym kluczu\n",
    "\n",
    "top_3 = basic_stats.pop('top3')\n",
    "print(top_3)"
   ]
  },
  {
   "cell_type": "code",
   "execution_count": 32,
   "metadata": {},
   "outputs": [
    {
     "name": "stdout",
     "output_type": "stream",
     "text": [
      "{'name': 'born2be.pl', 'top10': 2345, 'top50': 34567, 'visibility': 435000}\n"
     ]
    }
   ],
   "source": [
    "print(basic_stats)"
   ]
  },
  {
   "cell_type": "code",
   "execution_count": 33,
   "metadata": {},
   "outputs": [
    {
     "data": {
      "text/plain": [
       "dict_items([('name', 'born2be.pl'), ('top10', 2345), ('top50', 34567), ('visibility', 435000)])"
      ]
     },
     "execution_count": 33,
     "metadata": {},
     "output_type": "execute_result"
    }
   ],
   "source": [
    "# items - zwraca listę zawierającą tuplę (klucz, wartość)\n",
    "\n",
    "basic_stats.items()"
   ]
  },
  {
   "cell_type": "code",
   "execution_count": 34,
   "metadata": {},
   "outputs": [
    {
     "data": {
      "text/plain": [
       "dict_keys(['name', 'top10', 'top50', 'visibility'])"
      ]
     },
     "execution_count": 34,
     "metadata": {},
     "output_type": "execute_result"
    }
   ],
   "source": [
    "# keys - zwraca listę kluczy z danego słownika\n",
    "\n",
    "basic_stats.keys()"
   ]
  },
  {
   "cell_type": "code",
   "execution_count": 35,
   "metadata": {},
   "outputs": [
    {
     "data": {
      "text/plain": [
       "dict_values(['born2be.pl', 2345, 34567, 435000])"
      ]
     },
     "execution_count": 35,
     "metadata": {},
     "output_type": "execute_result"
    }
   ],
   "source": [
    "# values - zwraca listę wartości ze słownika\n",
    "\n",
    "basic_stats.values()"
   ]
  },
  {
   "cell_type": "code",
   "execution_count": 36,
   "metadata": {},
   "outputs": [
    {
     "ename": "KeyError",
     "evalue": "'ads'",
     "output_type": "error",
     "traceback": [
      "\u001b[1;31m---------------------------------------------------------------------------\u001b[0m",
      "\u001b[1;31mKeyError\u001b[0m                                  Traceback (most recent call last)",
      "\u001b[1;32m<ipython-input-36-b997921d776d>\u001b[0m in \u001b[0;36m<module>\u001b[1;34m\u001b[0m\n\u001b[0;32m      2\u001b[0m \u001b[1;31m# KeyError\u001b[0m\u001b[1;33m\u001b[0m\u001b[1;33m\u001b[0m\u001b[1;33m\u001b[0m\u001b[0m\n\u001b[0;32m      3\u001b[0m \u001b[1;33m\u001b[0m\u001b[0m\n\u001b[1;32m----> 4\u001b[1;33m \u001b[0mbasic_stats\u001b[0m\u001b[1;33m[\u001b[0m\u001b[1;34m'ads'\u001b[0m\u001b[1;33m]\u001b[0m\u001b[1;33m\u001b[0m\u001b[1;33m\u001b[0m\u001b[0m\n\u001b[0m",
      "\u001b[1;31mKeyError\u001b[0m: 'ads'"
     ]
    }
   ],
   "source": [
    "# odwołanie się do nieistniejącego elementu za pomocą klucza\n",
    "# KeyError\n",
    "\n",
    "basic_stats['ads']"
   ]
  },
  {
   "cell_type": "code",
   "execution_count": 37,
   "metadata": {},
   "outputs": [
    {
     "name": "stdout",
     "output_type": "stream",
     "text": [
      "None\n"
     ]
    }
   ],
   "source": [
    "# odwołanie się do nieistniejącego elementu za pomocą metody get()\n",
    "\n",
    "print(basic_stats.get('ads')) # jeśli nie ma takiego klucza zwracany jest typ None"
   ]
  },
  {
   "cell_type": "code",
   "execution_count": 38,
   "metadata": {},
   "outputs": [
    {
     "name": "stdout",
     "output_type": "stream",
     "text": [
      "2345\n"
     ]
    }
   ],
   "source": [
    "# pobieranie wartości za pomocą metody get()\n",
    "\n",
    "print(basic_stats.get('top10'))"
   ]
  },
  {
   "cell_type": "code",
   "execution_count": 39,
   "metadata": {},
   "outputs": [
    {
     "name": "stdout",
     "output_type": "stream",
     "text": [
      "Wartość elementu o kluczu name, to: born2be.pl.\n",
      "Wartość elementu o kluczu top3, to: 1234.\n",
      "Wartość elementu o kluczu top10, to: 2345.\n",
      "Wartość elementu o kluczu top50, to: 34567.\n"
     ]
    }
   ],
   "source": [
    "# wzór na pętlę z drukowaniem kluczy i wartości ze słownika\n",
    "# dość popularny schemat\n",
    "\n",
    "basic_stats = {\n",
    "    \"name\": \"born2be.pl\",\n",
    "    \"top3\": 1234,\n",
    "    \"top10\": 2345,\n",
    "    \"top50\": 34567,\n",
    "}\n",
    "\n",
    "for key, value in basic_stats.items():\n",
    "    print(f'Wartość elementu o kluczu {key}, to: {value}.')"
   ]
  },
  {
   "cell_type": "code",
   "execution_count": null,
   "metadata": {},
   "outputs": [],
   "source": []
  }
 ],
 "metadata": {
  "kernelspec": {
   "display_name": "Python 3",
   "language": "python",
   "name": "python3"
  },
  "language_info": {
   "codemirror_mode": {
    "name": "ipython",
    "version": 3
   },
   "file_extension": ".py",
   "mimetype": "text/x-python",
   "name": "python",
   "nbconvert_exporter": "python",
   "pygments_lexer": "ipython3",
   "version": "3.7.6"
  }
 },
 "nbformat": 4,
 "nbformat_minor": 4
}
