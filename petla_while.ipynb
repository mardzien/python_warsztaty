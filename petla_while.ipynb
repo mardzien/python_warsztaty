{
 "cells": [
  {
   "cell_type": "markdown",
   "metadata": {},
   "source": [
    "## Pętla while"
   ]
  },
  {
   "cell_type": "code",
   "execution_count": 1,
   "metadata": {},
   "outputs": [],
   "source": [
    "licznik = 0"
   ]
  },
  {
   "cell_type": "code",
   "execution_count": 2,
   "metadata": {},
   "outputs": [
    {
     "name": "stdout",
     "output_type": "stream",
     "text": [
      "0\n",
      "1\n",
      "2\n",
      "3\n",
      "4\n",
      "5\n",
      "6\n",
      "7\n",
      "8\n",
      "9\n"
     ]
    }
   ],
   "source": [
    "while licznik < 10:\n",
    "    print(licznik)\n",
    "    licznik = licznik + 1"
   ]
  },
  {
   "cell_type": "code",
   "execution_count": 3,
   "metadata": {},
   "outputs": [
    {
     "name": "stdout",
     "output_type": "stream",
     "text": [
      "Wpisz liczbę od 1 do 100: 13\n"
     ]
    },
    {
     "data": {
      "text/plain": [
       "'13'"
      ]
     },
     "execution_count": 3,
     "metadata": {},
     "output_type": "execute_result"
    }
   ],
   "source": [
    "input(\"Wpisz liczbę od 1 do 100: \")"
   ]
  },
  {
   "cell_type": "code",
   "execution_count": 4,
   "metadata": {},
   "outputs": [
    {
     "name": "stdout",
     "output_type": "stream",
     "text": [
      "Wpisz liczbę od 1 do 100: 76\n"
     ]
    }
   ],
   "source": [
    "moja_liczba = int(input(\"Wpisz liczbę od 1 do 100: \"))"
   ]
  },
  {
   "cell_type": "code",
   "execution_count": 5,
   "metadata": {},
   "outputs": [
    {
     "data": {
      "text/plain": [
       "76"
      ]
     },
     "execution_count": 5,
     "metadata": {},
     "output_type": "execute_result"
    }
   ],
   "source": [
    "moja_liczba"
   ]
  },
  {
   "cell_type": "code",
   "execution_count": 6,
   "metadata": {},
   "outputs": [],
   "source": [
    "# instrukcje do sterowania pętlą while\n",
    "# continue\n",
    "# break\n",
    "# pass"
   ]
  },
  {
   "cell_type": "code",
   "execution_count": 7,
   "metadata": {},
   "outputs": [
    {
     "name": "stdout",
     "output_type": "stream",
     "text": [
      "0\n",
      "1\n",
      "2\n",
      "3\n",
      "4\n",
      "7\n",
      "8\n",
      "9\n"
     ]
    }
   ],
   "source": [
    "licznik = 0\n",
    "while licznik < 10:\n",
    "    if licznik == 5:\n",
    "        licznik = licznik + 2\n",
    "        continue\n",
    "    else:\n",
    "        print(licznik)\n",
    "        licznik = licznik + 1"
   ]
  },
  {
   "cell_type": "code",
   "execution_count": 8,
   "metadata": {},
   "outputs": [],
   "source": [
    "# pass - nic nie robi, raczej używany jako placeholder w celu uniknięcia błędów\n",
    "# continue - ignoruje instrukcje, które są pod \"continue\", wracca do początku pętli\n",
    "# braek - przerywa działanie pętli"
   ]
  },
  {
   "cell_type": "code",
   "execution_count": 9,
   "metadata": {},
   "outputs": [],
   "source": [
    "# wczytywanie modułów\n",
    "import random"
   ]
  },
  {
   "cell_type": "code",
   "execution_count": 10,
   "metadata": {},
   "outputs": [],
   "source": [
    "wylosowana_liczba = random.randint(1, 100)\n",
    "# wczytaliśmy moduł random i za jego pomocą wylosowaliśmy liczbę od 1 do 100"
   ]
  },
  {
   "cell_type": "code",
   "execution_count": 11,
   "metadata": {},
   "outputs": [
    {
     "data": {
      "text/plain": [
       "58"
      ]
     },
     "execution_count": 11,
     "metadata": {},
     "output_type": "execute_result"
    }
   ],
   "source": [
    "wylosowana_liczba"
   ]
  },
  {
   "cell_type": "code",
   "execution_count": 12,
   "metadata": {},
   "outputs": [],
   "source": [
    "# gra- zgadywanie\n",
    "# komputer losuje liczbę od 1 do 100\n",
    "# gracz zgaduje\n",
    "# komputer podpowiada, czy szukana liczba jest mniejsza, czy większa\n",
    "# jeśli gracz zgadnie komputer informuje za którym razem zgadliśmy"
   ]
  },
  {
   "cell_type": "code",
   "execution_count": 13,
   "metadata": {},
   "outputs": [
    {
     "name": "stdout",
     "output_type": "stream",
     "text": [
      "Wpisz liczbę od 1 do 100: 50\n",
      "Szukana liczba jest większa.\n",
      "Wpisz liczbę od 1 do 100: 75\n",
      "Szukana liczba jest większa.\n",
      "Wpisz liczbę od 1 do 100: 87\n",
      "Szukana liczba jest mniejsza.\n",
      "Wpisz liczbę od 1 do 100: 81\n",
      "Brawooo, zgadłeś za 4 razem!!!\n"
     ]
    }
   ],
   "source": [
    "wylosowana_liczba = random.randint(1, 100)\n",
    "licznik = 0\n",
    "\n",
    "while True:\n",
    "    liczba_gracza = int(input(\"Wpisz liczbę od 1 do 100: \"))\n",
    "    licznik += 1\n",
    "    \n",
    "    if liczba_gracza == wylosowana_liczba:\n",
    "        print(f'Brawooo, zgadłeś za {licznik} razem!!!')\n",
    "        break\n",
    "        \n",
    "    elif wylosowana_liczba < liczba_gracza:\n",
    "        print(\"Szukana liczba jest mniejsza.\")\n",
    "    \n",
    "    elif wylosowana_liczba > liczba_gracza:\n",
    "        print(\"Szukana liczba jest większa.\")\n"
   ]
  },
  {
   "cell_type": "code",
   "execution_count": null,
   "metadata": {},
   "outputs": [],
   "source": []
  }
 ],
 "metadata": {
  "kernelspec": {
   "display_name": "Python 3",
   "language": "python",
   "name": "python3"
  },
  "language_info": {
   "codemirror_mode": {
    "name": "ipython",
    "version": 3
   },
   "file_extension": ".py",
   "mimetype": "text/x-python",
   "name": "python",
   "nbconvert_exporter": "python",
   "pygments_lexer": "ipython3",
   "version": "3.7.6"
  }
 },
 "nbformat": 4,
 "nbformat_minor": 4
}
