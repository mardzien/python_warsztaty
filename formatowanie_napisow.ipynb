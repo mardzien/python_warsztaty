{
 "cells": [
  {
   "cell_type": "code",
   "execution_count": 1,
   "metadata": {},
   "outputs": [],
   "source": [
    "wiek = 25\n",
    "wzrost = 180\n",
    "imie = \"Waldek\""
   ]
  },
  {
   "cell_type": "code",
   "execution_count": 3,
   "metadata": {},
   "outputs": [
    {
     "name": "stdout",
     "output_type": "stream",
     "text": [
      "Waldek ma 25 lat\n"
     ]
    }
   ],
   "source": [
    "print(imie + \" \" + \"ma\" + \" \" + str(wiek) + \" lat\")"
   ]
  },
  {
   "cell_type": "code",
   "execution_count": 4,
   "metadata": {},
   "outputs": [],
   "source": [
    "# formatted string"
   ]
  },
  {
   "cell_type": "code",
   "execution_count": 5,
   "metadata": {},
   "outputs": [
    {
     "name": "stdout",
     "output_type": "stream",
     "text": [
      "Waldek ma 25 lat i 180 wzrostu.\n"
     ]
    }
   ],
   "source": [
    "print(f'{imie} ma {wiek} lat i {wzrost} wzrostu.')"
   ]
  },
  {
   "cell_type": "code",
   "execution_count": 10,
   "metadata": {},
   "outputs": [
    {
     "name": "stdout",
     "output_type": "stream",
     "text": [
      "\tSzymon \n",
      "mówi \"dobranoc\".\n"
     ]
    }
   ],
   "source": [
    "print(\"\\tSzymon \\nmówi \\\"dobranoc\\\".\")"
   ]
  },
  {
   "cell_type": "code",
   "execution_count": 11,
   "metadata": {},
   "outputs": [
    {
     "name": "stdout",
     "output_type": "stream",
     "text": [
      "Waldek ma 25 lat i 180 wzrostu.\n"
     ]
    }
   ],
   "source": [
    "print('{} ma {} lat i {} wzrostu.'.format(imie, wiek, wzrost))"
   ]
  },
  {
   "cell_type": "code",
   "execution_count": null,
   "metadata": {},
   "outputs": [],
   "source": []
  }
 ],
 "metadata": {
  "kernelspec": {
   "display_name": "Python 3",
   "language": "python",
   "name": "python3"
  },
  "language_info": {
   "codemirror_mode": {
    "name": "ipython",
    "version": 3
   },
   "file_extension": ".py",
   "mimetype": "text/x-python",
   "name": "python",
   "nbconvert_exporter": "python",
   "pygments_lexer": "ipython3",
   "version": "3.7.6"
  }
 },
 "nbformat": 4,
 "nbformat_minor": 4
}
